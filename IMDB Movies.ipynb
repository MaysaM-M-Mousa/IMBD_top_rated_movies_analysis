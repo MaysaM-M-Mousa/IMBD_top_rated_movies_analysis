{
 "cells": [
  {
   "cell_type": "code",
   "execution_count": 1,
   "id": "6acfa73e",
   "metadata": {},
   "outputs": [],
   "source": [
    "import numpy as np\n",
    "import pandas as pd\n",
    "\n",
    "import matplotlib.pyplot as plt"
   ]
  },
  {
   "cell_type": "markdown",
   "id": "91ce766e",
   "metadata": {},
   "source": [
    "# Requirement #1"
   ]
  },
  {
   "cell_type": "code",
   "execution_count": 2,
   "id": "c89d2262",
   "metadata": {},
   "outputs": [
    {
     "data": {
      "text/html": [
       "<div>\n",
       "<style scoped>\n",
       "    .dataframe tbody tr th:only-of-type {\n",
       "        vertical-align: middle;\n",
       "    }\n",
       "\n",
       "    .dataframe tbody tr th {\n",
       "        vertical-align: top;\n",
       "    }\n",
       "\n",
       "    .dataframe thead th {\n",
       "        text-align: right;\n",
       "    }\n",
       "</style>\n",
       "<table border=\"1\" class=\"dataframe\">\n",
       "  <thead>\n",
       "    <tr style=\"text-align: right;\">\n",
       "      <th></th>\n",
       "      <th>Poster_Link</th>\n",
       "      <th>Series_Title</th>\n",
       "      <th>Released_Year</th>\n",
       "      <th>Certificate</th>\n",
       "      <th>Runtime</th>\n",
       "      <th>Genre</th>\n",
       "      <th>IMDB_Rating</th>\n",
       "      <th>Overview</th>\n",
       "      <th>Meta_score</th>\n",
       "      <th>Director</th>\n",
       "      <th>Star1</th>\n",
       "      <th>Star2</th>\n",
       "      <th>Star3</th>\n",
       "      <th>Star4</th>\n",
       "      <th>No_of_Votes</th>\n",
       "      <th>Gross</th>\n",
       "    </tr>\n",
       "  </thead>\n",
       "  <tbody>\n",
       "    <tr>\n",
       "      <th>0</th>\n",
       "      <td>https://m.media-amazon.com/images/M/MV5BMDFkYT...</td>\n",
       "      <td>The Shawshank Redemption</td>\n",
       "      <td>1994</td>\n",
       "      <td>A</td>\n",
       "      <td>142 min</td>\n",
       "      <td>Drama</td>\n",
       "      <td>9.3</td>\n",
       "      <td>Two imprisoned men bond over a number of years...</td>\n",
       "      <td>80.0</td>\n",
       "      <td>Frank Darabont</td>\n",
       "      <td>Tim Robbins</td>\n",
       "      <td>Morgan Freeman</td>\n",
       "      <td>Bob Gunton</td>\n",
       "      <td>William Sadler</td>\n",
       "      <td>2343110</td>\n",
       "      <td>28,341,469</td>\n",
       "    </tr>\n",
       "    <tr>\n",
       "      <th>1</th>\n",
       "      <td>https://m.media-amazon.com/images/M/MV5BM2MyNj...</td>\n",
       "      <td>The Godfather</td>\n",
       "      <td>1972</td>\n",
       "      <td>A</td>\n",
       "      <td>175 min</td>\n",
       "      <td>Crime, Drama</td>\n",
       "      <td>9.2</td>\n",
       "      <td>An organized crime dynasty's aging patriarch t...</td>\n",
       "      <td>100.0</td>\n",
       "      <td>Francis Ford Coppola</td>\n",
       "      <td>Marlon Brando</td>\n",
       "      <td>Al Pacino</td>\n",
       "      <td>James Caan</td>\n",
       "      <td>Diane Keaton</td>\n",
       "      <td>1620367</td>\n",
       "      <td>134,966,411</td>\n",
       "    </tr>\n",
       "    <tr>\n",
       "      <th>2</th>\n",
       "      <td>https://m.media-amazon.com/images/M/MV5BMTMxNT...</td>\n",
       "      <td>The Dark Knight</td>\n",
       "      <td>2008</td>\n",
       "      <td>UA</td>\n",
       "      <td>152 min</td>\n",
       "      <td>Action, Crime, Drama</td>\n",
       "      <td>9.0</td>\n",
       "      <td>When the menace known as the Joker wreaks havo...</td>\n",
       "      <td>84.0</td>\n",
       "      <td>Christopher Nolan</td>\n",
       "      <td>Christian Bale</td>\n",
       "      <td>Heath Ledger</td>\n",
       "      <td>Aaron Eckhart</td>\n",
       "      <td>Michael Caine</td>\n",
       "      <td>2303232</td>\n",
       "      <td>534,858,444</td>\n",
       "    </tr>\n",
       "    <tr>\n",
       "      <th>3</th>\n",
       "      <td>https://m.media-amazon.com/images/M/MV5BMWMwMG...</td>\n",
       "      <td>The Godfather: Part II</td>\n",
       "      <td>1974</td>\n",
       "      <td>A</td>\n",
       "      <td>202 min</td>\n",
       "      <td>Crime, Drama</td>\n",
       "      <td>9.0</td>\n",
       "      <td>The early life and career of Vito Corleone in ...</td>\n",
       "      <td>90.0</td>\n",
       "      <td>Francis Ford Coppola</td>\n",
       "      <td>Al Pacino</td>\n",
       "      <td>Robert De Niro</td>\n",
       "      <td>Robert Duvall</td>\n",
       "      <td>Diane Keaton</td>\n",
       "      <td>1129952</td>\n",
       "      <td>57,300,000</td>\n",
       "    </tr>\n",
       "    <tr>\n",
       "      <th>4</th>\n",
       "      <td>https://m.media-amazon.com/images/M/MV5BMWU4N2...</td>\n",
       "      <td>12 Angry Men</td>\n",
       "      <td>1957</td>\n",
       "      <td>U</td>\n",
       "      <td>96 min</td>\n",
       "      <td>Crime, Drama</td>\n",
       "      <td>9.0</td>\n",
       "      <td>A jury holdout attempts to prevent a miscarria...</td>\n",
       "      <td>96.0</td>\n",
       "      <td>Sidney Lumet</td>\n",
       "      <td>Henry Fonda</td>\n",
       "      <td>Lee J. Cobb</td>\n",
       "      <td>Martin Balsam</td>\n",
       "      <td>John Fiedler</td>\n",
       "      <td>689845</td>\n",
       "      <td>4,360,000</td>\n",
       "    </tr>\n",
       "  </tbody>\n",
       "</table>\n",
       "</div>"
      ],
      "text/plain": [
       "                                         Poster_Link  \\\n",
       "0  https://m.media-amazon.com/images/M/MV5BMDFkYT...   \n",
       "1  https://m.media-amazon.com/images/M/MV5BM2MyNj...   \n",
       "2  https://m.media-amazon.com/images/M/MV5BMTMxNT...   \n",
       "3  https://m.media-amazon.com/images/M/MV5BMWMwMG...   \n",
       "4  https://m.media-amazon.com/images/M/MV5BMWU4N2...   \n",
       "\n",
       "               Series_Title Released_Year Certificate  Runtime  \\\n",
       "0  The Shawshank Redemption          1994           A  142 min   \n",
       "1             The Godfather          1972           A  175 min   \n",
       "2           The Dark Knight          2008          UA  152 min   \n",
       "3    The Godfather: Part II          1974           A  202 min   \n",
       "4              12 Angry Men          1957           U   96 min   \n",
       "\n",
       "                  Genre  IMDB_Rating  \\\n",
       "0                 Drama          9.3   \n",
       "1          Crime, Drama          9.2   \n",
       "2  Action, Crime, Drama          9.0   \n",
       "3          Crime, Drama          9.0   \n",
       "4          Crime, Drama          9.0   \n",
       "\n",
       "                                            Overview  Meta_score  \\\n",
       "0  Two imprisoned men bond over a number of years...        80.0   \n",
       "1  An organized crime dynasty's aging patriarch t...       100.0   \n",
       "2  When the menace known as the Joker wreaks havo...        84.0   \n",
       "3  The early life and career of Vito Corleone in ...        90.0   \n",
       "4  A jury holdout attempts to prevent a miscarria...        96.0   \n",
       "\n",
       "               Director           Star1           Star2          Star3  \\\n",
       "0        Frank Darabont     Tim Robbins  Morgan Freeman     Bob Gunton   \n",
       "1  Francis Ford Coppola   Marlon Brando       Al Pacino     James Caan   \n",
       "2     Christopher Nolan  Christian Bale    Heath Ledger  Aaron Eckhart   \n",
       "3  Francis Ford Coppola       Al Pacino  Robert De Niro  Robert Duvall   \n",
       "4          Sidney Lumet     Henry Fonda     Lee J. Cobb  Martin Balsam   \n",
       "\n",
       "            Star4  No_of_Votes        Gross  \n",
       "0  William Sadler      2343110   28,341,469  \n",
       "1    Diane Keaton      1620367  134,966,411  \n",
       "2   Michael Caine      2303232  534,858,444  \n",
       "3    Diane Keaton      1129952   57,300,000  \n",
       "4    John Fiedler       689845    4,360,000  "
      ]
     },
     "execution_count": 2,
     "metadata": {},
     "output_type": "execute_result"
    }
   ],
   "source": [
    "df = pd.read_csv('imdb_top_1000.csv')\n",
    "df.head()"
   ]
  },
  {
   "cell_type": "markdown",
   "id": "7319c3ad",
   "metadata": {},
   "source": [
    "# Requirement #2"
   ]
  },
  {
   "cell_type": "code",
   "execution_count": 3,
   "id": "8d6ea340",
   "metadata": {},
   "outputs": [
    {
     "data": {
      "text/html": [
       "<div>\n",
       "<style scoped>\n",
       "    .dataframe tbody tr th:only-of-type {\n",
       "        vertical-align: middle;\n",
       "    }\n",
       "\n",
       "    .dataframe tbody tr th {\n",
       "        vertical-align: top;\n",
       "    }\n",
       "\n",
       "    .dataframe thead th {\n",
       "        text-align: right;\n",
       "    }\n",
       "</style>\n",
       "<table border=\"1\" class=\"dataframe\">\n",
       "  <thead>\n",
       "    <tr style=\"text-align: right;\">\n",
       "      <th></th>\n",
       "      <th>Series_Title</th>\n",
       "      <th>Released_Year</th>\n",
       "      <th>Certificate</th>\n",
       "      <th>Runtime</th>\n",
       "      <th>Genre</th>\n",
       "      <th>IMDB_Rating</th>\n",
       "      <th>Overview</th>\n",
       "      <th>Meta_score</th>\n",
       "      <th>Director</th>\n",
       "      <th>Star1</th>\n",
       "      <th>Star2</th>\n",
       "      <th>Star3</th>\n",
       "      <th>Star4</th>\n",
       "      <th>No_of_Votes</th>\n",
       "      <th>Gross</th>\n",
       "    </tr>\n",
       "  </thead>\n",
       "  <tbody>\n",
       "    <tr>\n",
       "      <th>0</th>\n",
       "      <td>The Shawshank Redemption</td>\n",
       "      <td>1994</td>\n",
       "      <td>A</td>\n",
       "      <td>142 min</td>\n",
       "      <td>Drama</td>\n",
       "      <td>9.3</td>\n",
       "      <td>Two imprisoned men bond over a number of years...</td>\n",
       "      <td>80.0</td>\n",
       "      <td>Frank Darabont</td>\n",
       "      <td>Tim Robbins</td>\n",
       "      <td>Morgan Freeman</td>\n",
       "      <td>Bob Gunton</td>\n",
       "      <td>William Sadler</td>\n",
       "      <td>2343110</td>\n",
       "      <td>28,341,469</td>\n",
       "    </tr>\n",
       "    <tr>\n",
       "      <th>1</th>\n",
       "      <td>The Godfather</td>\n",
       "      <td>1972</td>\n",
       "      <td>A</td>\n",
       "      <td>175 min</td>\n",
       "      <td>Crime, Drama</td>\n",
       "      <td>9.2</td>\n",
       "      <td>An organized crime dynasty's aging patriarch t...</td>\n",
       "      <td>100.0</td>\n",
       "      <td>Francis Ford Coppola</td>\n",
       "      <td>Marlon Brando</td>\n",
       "      <td>Al Pacino</td>\n",
       "      <td>James Caan</td>\n",
       "      <td>Diane Keaton</td>\n",
       "      <td>1620367</td>\n",
       "      <td>134,966,411</td>\n",
       "    </tr>\n",
       "    <tr>\n",
       "      <th>2</th>\n",
       "      <td>The Dark Knight</td>\n",
       "      <td>2008</td>\n",
       "      <td>UA</td>\n",
       "      <td>152 min</td>\n",
       "      <td>Action, Crime, Drama</td>\n",
       "      <td>9.0</td>\n",
       "      <td>When the menace known as the Joker wreaks havo...</td>\n",
       "      <td>84.0</td>\n",
       "      <td>Christopher Nolan</td>\n",
       "      <td>Christian Bale</td>\n",
       "      <td>Heath Ledger</td>\n",
       "      <td>Aaron Eckhart</td>\n",
       "      <td>Michael Caine</td>\n",
       "      <td>2303232</td>\n",
       "      <td>534,858,444</td>\n",
       "    </tr>\n",
       "    <tr>\n",
       "      <th>3</th>\n",
       "      <td>The Godfather: Part II</td>\n",
       "      <td>1974</td>\n",
       "      <td>A</td>\n",
       "      <td>202 min</td>\n",
       "      <td>Crime, Drama</td>\n",
       "      <td>9.0</td>\n",
       "      <td>The early life and career of Vito Corleone in ...</td>\n",
       "      <td>90.0</td>\n",
       "      <td>Francis Ford Coppola</td>\n",
       "      <td>Al Pacino</td>\n",
       "      <td>Robert De Niro</td>\n",
       "      <td>Robert Duvall</td>\n",
       "      <td>Diane Keaton</td>\n",
       "      <td>1129952</td>\n",
       "      <td>57,300,000</td>\n",
       "    </tr>\n",
       "    <tr>\n",
       "      <th>4</th>\n",
       "      <td>12 Angry Men</td>\n",
       "      <td>1957</td>\n",
       "      <td>U</td>\n",
       "      <td>96 min</td>\n",
       "      <td>Crime, Drama</td>\n",
       "      <td>9.0</td>\n",
       "      <td>A jury holdout attempts to prevent a miscarria...</td>\n",
       "      <td>96.0</td>\n",
       "      <td>Sidney Lumet</td>\n",
       "      <td>Henry Fonda</td>\n",
       "      <td>Lee J. Cobb</td>\n",
       "      <td>Martin Balsam</td>\n",
       "      <td>John Fiedler</td>\n",
       "      <td>689845</td>\n",
       "      <td>4,360,000</td>\n",
       "    </tr>\n",
       "    <tr>\n",
       "      <th>...</th>\n",
       "      <td>...</td>\n",
       "      <td>...</td>\n",
       "      <td>...</td>\n",
       "      <td>...</td>\n",
       "      <td>...</td>\n",
       "      <td>...</td>\n",
       "      <td>...</td>\n",
       "      <td>...</td>\n",
       "      <td>...</td>\n",
       "      <td>...</td>\n",
       "      <td>...</td>\n",
       "      <td>...</td>\n",
       "      <td>...</td>\n",
       "      <td>...</td>\n",
       "      <td>...</td>\n",
       "    </tr>\n",
       "    <tr>\n",
       "      <th>995</th>\n",
       "      <td>Breakfast at Tiffany's</td>\n",
       "      <td>1961</td>\n",
       "      <td>A</td>\n",
       "      <td>115 min</td>\n",
       "      <td>Comedy, Drama, Romance</td>\n",
       "      <td>7.6</td>\n",
       "      <td>A young New York socialite becomes interested ...</td>\n",
       "      <td>76.0</td>\n",
       "      <td>Blake Edwards</td>\n",
       "      <td>Audrey Hepburn</td>\n",
       "      <td>George Peppard</td>\n",
       "      <td>Patricia Neal</td>\n",
       "      <td>Buddy Ebsen</td>\n",
       "      <td>166544</td>\n",
       "      <td>NaN</td>\n",
       "    </tr>\n",
       "    <tr>\n",
       "      <th>996</th>\n",
       "      <td>Giant</td>\n",
       "      <td>1956</td>\n",
       "      <td>G</td>\n",
       "      <td>201 min</td>\n",
       "      <td>Drama, Western</td>\n",
       "      <td>7.6</td>\n",
       "      <td>Sprawling epic covering the life of a Texas ca...</td>\n",
       "      <td>84.0</td>\n",
       "      <td>George Stevens</td>\n",
       "      <td>Elizabeth Taylor</td>\n",
       "      <td>Rock Hudson</td>\n",
       "      <td>James Dean</td>\n",
       "      <td>Carroll Baker</td>\n",
       "      <td>34075</td>\n",
       "      <td>NaN</td>\n",
       "    </tr>\n",
       "    <tr>\n",
       "      <th>997</th>\n",
       "      <td>From Here to Eternity</td>\n",
       "      <td>1953</td>\n",
       "      <td>Passed</td>\n",
       "      <td>118 min</td>\n",
       "      <td>Drama, Romance, War</td>\n",
       "      <td>7.6</td>\n",
       "      <td>In Hawaii in 1941, a private is cruelly punish...</td>\n",
       "      <td>85.0</td>\n",
       "      <td>Fred Zinnemann</td>\n",
       "      <td>Burt Lancaster</td>\n",
       "      <td>Montgomery Clift</td>\n",
       "      <td>Deborah Kerr</td>\n",
       "      <td>Donna Reed</td>\n",
       "      <td>43374</td>\n",
       "      <td>30,500,000</td>\n",
       "    </tr>\n",
       "    <tr>\n",
       "      <th>998</th>\n",
       "      <td>Lifeboat</td>\n",
       "      <td>1944</td>\n",
       "      <td>NaN</td>\n",
       "      <td>97 min</td>\n",
       "      <td>Drama, War</td>\n",
       "      <td>7.6</td>\n",
       "      <td>Several survivors of a torpedoed merchant ship...</td>\n",
       "      <td>78.0</td>\n",
       "      <td>Alfred Hitchcock</td>\n",
       "      <td>Tallulah Bankhead</td>\n",
       "      <td>John Hodiak</td>\n",
       "      <td>Walter Slezak</td>\n",
       "      <td>William Bendix</td>\n",
       "      <td>26471</td>\n",
       "      <td>NaN</td>\n",
       "    </tr>\n",
       "    <tr>\n",
       "      <th>999</th>\n",
       "      <td>The 39 Steps</td>\n",
       "      <td>1935</td>\n",
       "      <td>NaN</td>\n",
       "      <td>86 min</td>\n",
       "      <td>Crime, Mystery, Thriller</td>\n",
       "      <td>7.6</td>\n",
       "      <td>A man in London tries to help a counter-espion...</td>\n",
       "      <td>93.0</td>\n",
       "      <td>Alfred Hitchcock</td>\n",
       "      <td>Robert Donat</td>\n",
       "      <td>Madeleine Carroll</td>\n",
       "      <td>Lucie Mannheim</td>\n",
       "      <td>Godfrey Tearle</td>\n",
       "      <td>51853</td>\n",
       "      <td>NaN</td>\n",
       "    </tr>\n",
       "  </tbody>\n",
       "</table>\n",
       "<p>1000 rows × 15 columns</p>\n",
       "</div>"
      ],
      "text/plain": [
       "                 Series_Title Released_Year Certificate  Runtime  \\\n",
       "0    The Shawshank Redemption          1994           A  142 min   \n",
       "1               The Godfather          1972           A  175 min   \n",
       "2             The Dark Knight          2008          UA  152 min   \n",
       "3      The Godfather: Part II          1974           A  202 min   \n",
       "4                12 Angry Men          1957           U   96 min   \n",
       "..                        ...           ...         ...      ...   \n",
       "995    Breakfast at Tiffany's          1961           A  115 min   \n",
       "996                     Giant          1956           G  201 min   \n",
       "997     From Here to Eternity          1953      Passed  118 min   \n",
       "998                  Lifeboat          1944         NaN   97 min   \n",
       "999              The 39 Steps          1935         NaN   86 min   \n",
       "\n",
       "                        Genre  IMDB_Rating  \\\n",
       "0                       Drama          9.3   \n",
       "1                Crime, Drama          9.2   \n",
       "2        Action, Crime, Drama          9.0   \n",
       "3                Crime, Drama          9.0   \n",
       "4                Crime, Drama          9.0   \n",
       "..                        ...          ...   \n",
       "995    Comedy, Drama, Romance          7.6   \n",
       "996            Drama, Western          7.6   \n",
       "997       Drama, Romance, War          7.6   \n",
       "998                Drama, War          7.6   \n",
       "999  Crime, Mystery, Thriller          7.6   \n",
       "\n",
       "                                              Overview  Meta_score  \\\n",
       "0    Two imprisoned men bond over a number of years...        80.0   \n",
       "1    An organized crime dynasty's aging patriarch t...       100.0   \n",
       "2    When the menace known as the Joker wreaks havo...        84.0   \n",
       "3    The early life and career of Vito Corleone in ...        90.0   \n",
       "4    A jury holdout attempts to prevent a miscarria...        96.0   \n",
       "..                                                 ...         ...   \n",
       "995  A young New York socialite becomes interested ...        76.0   \n",
       "996  Sprawling epic covering the life of a Texas ca...        84.0   \n",
       "997  In Hawaii in 1941, a private is cruelly punish...        85.0   \n",
       "998  Several survivors of a torpedoed merchant ship...        78.0   \n",
       "999  A man in London tries to help a counter-espion...        93.0   \n",
       "\n",
       "                 Director              Star1              Star2  \\\n",
       "0          Frank Darabont        Tim Robbins     Morgan Freeman   \n",
       "1    Francis Ford Coppola      Marlon Brando          Al Pacino   \n",
       "2       Christopher Nolan     Christian Bale       Heath Ledger   \n",
       "3    Francis Ford Coppola          Al Pacino     Robert De Niro   \n",
       "4            Sidney Lumet        Henry Fonda        Lee J. Cobb   \n",
       "..                    ...                ...                ...   \n",
       "995         Blake Edwards     Audrey Hepburn     George Peppard   \n",
       "996        George Stevens   Elizabeth Taylor        Rock Hudson   \n",
       "997        Fred Zinnemann     Burt Lancaster   Montgomery Clift   \n",
       "998      Alfred Hitchcock  Tallulah Bankhead        John Hodiak   \n",
       "999      Alfred Hitchcock       Robert Donat  Madeleine Carroll   \n",
       "\n",
       "              Star3           Star4  No_of_Votes        Gross  \n",
       "0        Bob Gunton  William Sadler      2343110   28,341,469  \n",
       "1        James Caan    Diane Keaton      1620367  134,966,411  \n",
       "2     Aaron Eckhart   Michael Caine      2303232  534,858,444  \n",
       "3     Robert Duvall    Diane Keaton      1129952   57,300,000  \n",
       "4     Martin Balsam    John Fiedler       689845    4,360,000  \n",
       "..              ...             ...          ...          ...  \n",
       "995   Patricia Neal     Buddy Ebsen       166544          NaN  \n",
       "996      James Dean   Carroll Baker        34075          NaN  \n",
       "997    Deborah Kerr      Donna Reed        43374   30,500,000  \n",
       "998   Walter Slezak  William Bendix        26471          NaN  \n",
       "999  Lucie Mannheim  Godfrey Tearle        51853          NaN  \n",
       "\n",
       "[1000 rows x 15 columns]"
      ]
     },
     "execution_count": 3,
     "metadata": {},
     "output_type": "execute_result"
    }
   ],
   "source": [
    "df.drop(columns=['Poster_Link'], inplace=True)\n",
    "df"
   ]
  },
  {
   "cell_type": "code",
   "execution_count": 4,
   "id": "972b6c51",
   "metadata": {},
   "outputs": [
    {
     "name": "stdout",
     "output_type": "stream",
     "text": [
      "<class 'pandas.core.frame.DataFrame'>\n",
      "RangeIndex: 1000 entries, 0 to 999\n",
      "Data columns (total 15 columns):\n",
      " #   Column         Non-Null Count  Dtype  \n",
      "---  ------         --------------  -----  \n",
      " 0   Series_Title   1000 non-null   object \n",
      " 1   Released_Year  1000 non-null   object \n",
      " 2   Certificate    899 non-null    object \n",
      " 3   Runtime        1000 non-null   object \n",
      " 4   Genre          1000 non-null   object \n",
      " 5   IMDB_Rating    1000 non-null   float64\n",
      " 6   Overview       1000 non-null   object \n",
      " 7   Meta_score     843 non-null    float64\n",
      " 8   Director       1000 non-null   object \n",
      " 9   Star1          1000 non-null   object \n",
      " 10  Star2          1000 non-null   object \n",
      " 11  Star3          1000 non-null   object \n",
      " 12  Star4          1000 non-null   object \n",
      " 13  No_of_Votes    1000 non-null   int64  \n",
      " 14  Gross          831 non-null    object \n",
      "dtypes: float64(2), int64(1), object(12)\n",
      "memory usage: 117.3+ KB\n"
     ]
    }
   ],
   "source": [
    "df.info()"
   ]
  },
  {
   "cell_type": "code",
   "execution_count": 5,
   "id": "4b90ad86",
   "metadata": {},
   "outputs": [],
   "source": [
    "df.Gross = df.Gross.apply(lambda x : x.replace(\",\", \"\") if type(x) is str else x).astype('float64')"
   ]
  },
  {
   "cell_type": "code",
   "execution_count": 6,
   "id": "63a9b4c2",
   "metadata": {},
   "outputs": [
    {
     "data": {
      "text/plain": [
       "Series_Title       0\n",
       "Released_Year      0\n",
       "Certificate      101\n",
       "Runtime            0\n",
       "Genre              0\n",
       "IMDB_Rating        0\n",
       "Overview           0\n",
       "Meta_score       157\n",
       "Director           0\n",
       "Star1              0\n",
       "Star2              0\n",
       "Star3              0\n",
       "Star4              0\n",
       "No_of_Votes        0\n",
       "Gross            169\n",
       "dtype: int64"
      ]
     },
     "execution_count": 6,
     "metadata": {},
     "output_type": "execute_result"
    }
   ],
   "source": [
    "df.isna().sum()"
   ]
  },
  {
   "cell_type": "markdown",
   "id": "7ff09b40",
   "metadata": {},
   "source": [
    "### As show we have null values in `Certificate`, `Meta_score`, and `Gross`. Exploring more about these columns would be better before taking any actions for them"
   ]
  },
  {
   "cell_type": "code",
   "execution_count": 7,
   "id": "63d80dad",
   "metadata": {},
   "outputs": [
    {
     "data": {
      "text/plain": [
       "array(['A', 'UA', 'U', 'PG-13', 'R', nan, 'PG', 'G', 'Passed', 'TV-14',\n",
       "       '16', 'TV-MA', 'Unrated', 'GP', 'Approved', 'TV-PG', 'U/A'],\n",
       "      dtype=object)"
      ]
     },
     "execution_count": 7,
     "metadata": {},
     "output_type": "execute_result"
    }
   ],
   "source": [
    "df.Certificate.unique()"
   ]
  },
  {
   "cell_type": "code",
   "execution_count": 8,
   "id": "ba90b8e1",
   "metadata": {},
   "outputs": [
    {
     "data": {
      "text/plain": [
       "U           234\n",
       "A           197\n",
       "UA          175\n",
       "R           146\n",
       "PG-13        43\n",
       "PG           37\n",
       "Passed       34\n",
       "G            12\n",
       "Approved     11\n",
       "TV-PG         3\n",
       "GP            2\n",
       "TV-14         1\n",
       "16            1\n",
       "TV-MA         1\n",
       "Unrated       1\n",
       "U/A           1\n",
       "Name: Certificate, dtype: int64"
      ]
     },
     "execution_count": 8,
     "metadata": {},
     "output_type": "execute_result"
    }
   ],
   "source": [
    "df.Certificate.value_counts()"
   ]
  },
  {
   "cell_type": "code",
   "execution_count": 9,
   "id": "539681fe",
   "metadata": {},
   "outputs": [
    {
     "data": {
      "text/plain": [
       "'U'"
      ]
     },
     "execution_count": 9,
     "metadata": {},
     "output_type": "execute_result"
    }
   ],
   "source": [
    "certificate_mode = df.Certificate.mode()[0]\n",
    "certificate_mode"
   ]
  },
  {
   "cell_type": "code",
   "execution_count": 10,
   "id": "d5506cbb",
   "metadata": {},
   "outputs": [
    {
     "data": {
      "text/plain": [
       "76.0    32\n",
       "84.0    29\n",
       "90.0    29\n",
       "80.0    27\n",
       "73.0    27\n",
       "        ..\n",
       "28.0     1\n",
       "36.0     1\n",
       "46.0     1\n",
       "30.0     1\n",
       "41.0     1\n",
       "Name: Meta_score, Length: 63, dtype: int64"
      ]
     },
     "execution_count": 10,
     "metadata": {},
     "output_type": "execute_result"
    }
   ],
   "source": [
    "df.Meta_score.value_counts()"
   ]
  },
  {
   "cell_type": "code",
   "execution_count": 11,
   "id": "2063c467",
   "metadata": {},
   "outputs": [
    {
     "data": {
      "text/plain": [
       "76.0"
      ]
     },
     "execution_count": 11,
     "metadata": {},
     "output_type": "execute_result"
    }
   ],
   "source": [
    "meta_score_mode = df.Meta_score.mode()[0]\n",
    "meta_score_mode"
   ]
  },
  {
   "cell_type": "code",
   "execution_count": 12,
   "id": "f1d237db",
   "metadata": {},
   "outputs": [
    {
     "data": {
      "text/plain": [
       "68034750.87364621"
      ]
     },
     "execution_count": 12,
     "metadata": {},
     "output_type": "execute_result"
    }
   ],
   "source": [
    "gross_mean = df.Gross.mean()\n",
    "gross_mean"
   ]
  },
  {
   "cell_type": "markdown",
   "id": "14ca91d1",
   "metadata": {},
   "source": [
    "### Replacing nulls"
   ]
  },
  {
   "cell_type": "code",
   "execution_count": 13,
   "id": "3c2d571f",
   "metadata": {},
   "outputs": [],
   "source": [
    "df.Certificate = df.Certificate.fillna(certificate_mode)\n",
    "df.Meta_score = df.Meta_score.fillna(meta_score_mode)\n",
    "df.Gross = df.Gross.fillna(gross_mean)"
   ]
  },
  {
   "cell_type": "code",
   "execution_count": 14,
   "id": "6ccc7711",
   "metadata": {},
   "outputs": [
    {
     "data": {
      "text/plain": [
       "0"
      ]
     },
     "execution_count": 14,
     "metadata": {},
     "output_type": "execute_result"
    }
   ],
   "source": [
    "df.isna().sum().sum()"
   ]
  },
  {
   "cell_type": "markdown",
   "id": "882f73fa",
   "metadata": {},
   "source": [
    "##### As seen no null values on the dataframe anymore"
   ]
  },
  {
   "cell_type": "markdown",
   "id": "ecbe250f",
   "metadata": {},
   "source": [
    "# Requirement #3"
   ]
  },
  {
   "cell_type": "code",
   "execution_count": 15,
   "id": "38428454",
   "metadata": {},
   "outputs": [
    {
     "data": {
      "text/plain": [
       "Drama                        85\n",
       "Drama, Romance               37\n",
       "Comedy, Drama                35\n",
       "Comedy, Drama, Romance       31\n",
       "Action, Crime, Drama         30\n",
       "                             ..\n",
       "Adventure, Thriller           1\n",
       "Animation, Action, Sci-Fi     1\n",
       "Action, Crime, Comedy         1\n",
       "Animation, Crime, Mystery     1\n",
       "Adventure, Comedy, War        1\n",
       "Name: Genre, Length: 202, dtype: int64"
      ]
     },
     "execution_count": 15,
     "metadata": {},
     "output_type": "execute_result"
    }
   ],
   "source": [
    "df.Genre.value_counts()"
   ]
  },
  {
   "cell_type": "markdown",
   "id": "d2469c14",
   "metadata": {},
   "source": [
    "##### As shown, the drama genre is the most popular genre "
   ]
  },
  {
   "cell_type": "markdown",
   "id": "f5c2b242",
   "metadata": {},
   "source": [
    "# Requirement #4"
   ]
  },
  {
   "cell_type": "code",
   "execution_count": 16,
   "id": "2f6265a3",
   "metadata": {},
   "outputs": [
    {
     "data": {
      "text/html": [
       "<div>\n",
       "<style scoped>\n",
       "    .dataframe tbody tr th:only-of-type {\n",
       "        vertical-align: middle;\n",
       "    }\n",
       "\n",
       "    .dataframe tbody tr th {\n",
       "        vertical-align: top;\n",
       "    }\n",
       "\n",
       "    .dataframe thead th {\n",
       "        text-align: right;\n",
       "    }\n",
       "</style>\n",
       "<table border=\"1\" class=\"dataframe\">\n",
       "  <thead>\n",
       "    <tr style=\"text-align: right;\">\n",
       "      <th></th>\n",
       "      <th>Genre</th>\n",
       "      <th>Count</th>\n",
       "    </tr>\n",
       "  </thead>\n",
       "  <tbody>\n",
       "    <tr>\n",
       "      <th>0</th>\n",
       "      <td>Drama</td>\n",
       "      <td>85</td>\n",
       "    </tr>\n",
       "    <tr>\n",
       "      <th>1</th>\n",
       "      <td>Drama, Romance</td>\n",
       "      <td>37</td>\n",
       "    </tr>\n",
       "    <tr>\n",
       "      <th>2</th>\n",
       "      <td>Comedy, Drama</td>\n",
       "      <td>35</td>\n",
       "    </tr>\n",
       "    <tr>\n",
       "      <th>3</th>\n",
       "      <td>Comedy, Drama, Romance</td>\n",
       "      <td>31</td>\n",
       "    </tr>\n",
       "    <tr>\n",
       "      <th>4</th>\n",
       "      <td>Action, Crime, Drama</td>\n",
       "      <td>30</td>\n",
       "    </tr>\n",
       "    <tr>\n",
       "      <th>...</th>\n",
       "      <td>...</td>\n",
       "      <td>...</td>\n",
       "    </tr>\n",
       "    <tr>\n",
       "      <th>197</th>\n",
       "      <td>Action, Crime, Mystery</td>\n",
       "      <td>1</td>\n",
       "    </tr>\n",
       "    <tr>\n",
       "      <th>198</th>\n",
       "      <td>Crime, Drama, Sci-Fi</td>\n",
       "      <td>1</td>\n",
       "    </tr>\n",
       "    <tr>\n",
       "      <th>199</th>\n",
       "      <td>Animation, Crime, Mystery</td>\n",
       "      <td>1</td>\n",
       "    </tr>\n",
       "    <tr>\n",
       "      <th>200</th>\n",
       "      <td>Animation, Drama, Romance</td>\n",
       "      <td>1</td>\n",
       "    </tr>\n",
       "    <tr>\n",
       "      <th>201</th>\n",
       "      <td>Crime, Drama, Horror</td>\n",
       "      <td>1</td>\n",
       "    </tr>\n",
       "  </tbody>\n",
       "</table>\n",
       "<p>202 rows × 2 columns</p>\n",
       "</div>"
      ],
      "text/plain": [
       "                         Genre  Count\n",
       "0                        Drama     85\n",
       "1               Drama, Romance     37\n",
       "2                Comedy, Drama     35\n",
       "3       Comedy, Drama, Romance     31\n",
       "4         Action, Crime, Drama     30\n",
       "..                         ...    ...\n",
       "197     Action, Crime, Mystery      1\n",
       "198       Crime, Drama, Sci-Fi      1\n",
       "199  Animation, Crime, Mystery      1\n",
       "200  Animation, Drama, Romance      1\n",
       "201       Crime, Drama, Horror      1\n",
       "\n",
       "[202 rows x 2 columns]"
      ]
     },
     "execution_count": 16,
     "metadata": {},
     "output_type": "execute_result"
    }
   ],
   "source": [
    "df_genres = pd.DataFrame(df.groupby('Genre').size().sort_values(ascending=False), columns=['Count']).reset_index()\n",
    "df_genres"
   ]
  },
  {
   "cell_type": "markdown",
   "id": "60ac4f6b",
   "metadata": {},
   "source": [
    "# Requirement #5"
   ]
  },
  {
   "cell_type": "code",
   "execution_count": 17,
   "id": "26455efd",
   "metadata": {},
   "outputs": [
    {
     "data": {
      "text/plain": [
       "Text(0.5, 1.0, \"Top Movies' Genres\")"
      ]
     },
     "execution_count": 17,
     "metadata": {},
     "output_type": "execute_result"
    },
    {
     "data": {
      "image/png": "[encoded data removed]",
      "text/plain": [
       "<Figure size 640x480 with 1 Axes>"
      ]
     },
     "metadata": {},
     "output_type": "display_data"
    }
   ],
   "source": [
    "top_10_genres = df_genres.iloc[:10]\n",
    "\n",
    "genres = tuple(top_10_genres.Genre)\n",
    "y_pos = np.arange(len(genres))\n",
    "counts = top_10_genres.Count\n",
    "\n",
    "plt.barh(y_pos, counts, align='center', alpha=0.5)\n",
    "plt.yticks(y_pos, genres)\n",
    "plt.xlabel('Number Of Movies')\n",
    "plt.ylabel('Genre')\n",
    "plt.title('Top Movies\\' Genres')"
   ]
  },
  {
   "cell_type": "markdown",
   "id": "832a168e",
   "metadata": {},
   "source": [
    "# Requirement #6"
   ]
  },
  {
   "cell_type": "code",
   "execution_count": 18,
   "id": "4a064b38",
   "metadata": {},
   "outputs": [
    {
     "data": {
      "text/plain": [
       "Director\n",
       "Alfred Hitchcock    14\n",
       "Steven Spielberg    13\n",
       "Hayao Miyazaki      11\n",
       "Martin Scorsese     10\n",
       "Akira Kurosawa      10\n",
       "                    ..\n",
       "Jessie Nelson        1\n",
       "Jeong-beom Lee       1\n",
       "Jemaine Clement      1\n",
       "Jeethu Joseph        1\n",
       "Ömer Faruk Sorak     1\n",
       "Length: 548, dtype: int64"
      ]
     },
     "execution_count": 18,
     "metadata": {},
     "output_type": "execute_result"
    }
   ],
   "source": [
    "df_by_director = df.groupby('Director').size().sort_values(ascending=False)\n",
    "df_by_director"
   ]
  },
  {
   "cell_type": "code",
   "execution_count": 19,
   "id": "e43bc627",
   "metadata": {},
   "outputs": [
    {
     "data": {
      "text/plain": [
       "'Alfred Hitchcock'"
      ]
     },
     "execution_count": 19,
     "metadata": {},
     "output_type": "execute_result"
    }
   ],
   "source": [
    "top_director_name = df_by_director.index[0]\n",
    "top_director_name"
   ]
  },
  {
   "cell_type": "markdown",
   "id": "8aa9a2bd",
   "metadata": {},
   "source": [
    "##### As shown `Alfred Hitchcock` is the director with the most movies top rated on IMDB"
   ]
  },
  {
   "cell_type": "markdown",
   "id": "9b658744",
   "metadata": {},
   "source": [
    "# Requirement #7"
   ]
  },
  {
   "cell_type": "code",
   "execution_count": 20,
   "id": "3579a770",
   "metadata": {},
   "outputs": [
    {
     "data": {
      "text/html": [
       "<div>\n",
       "<style scoped>\n",
       "    .dataframe tbody tr th:only-of-type {\n",
       "        vertical-align: middle;\n",
       "    }\n",
       "\n",
       "    .dataframe tbody tr th {\n",
       "        vertical-align: top;\n",
       "    }\n",
       "\n",
       "    .dataframe thead th {\n",
       "        text-align: right;\n",
       "    }\n",
       "</style>\n",
       "<table border=\"1\" class=\"dataframe\">\n",
       "  <thead>\n",
       "    <tr style=\"text-align: right;\">\n",
       "      <th></th>\n",
       "      <th>Series_Title</th>\n",
       "      <th>Released_Year</th>\n",
       "      <th>Certificate</th>\n",
       "      <th>Runtime</th>\n",
       "      <th>Genre</th>\n",
       "      <th>IMDB_Rating</th>\n",
       "      <th>Overview</th>\n",
       "      <th>Meta_score</th>\n",
       "      <th>Director</th>\n",
       "      <th>Star1</th>\n",
       "      <th>Star2</th>\n",
       "      <th>Star3</th>\n",
       "      <th>Star4</th>\n",
       "      <th>No_of_Votes</th>\n",
       "      <th>Gross</th>\n",
       "    </tr>\n",
       "  </thead>\n",
       "  <tbody>\n",
       "    <tr>\n",
       "      <th>49</th>\n",
       "      <td>Psycho</td>\n",
       "      <td>1960</td>\n",
       "      <td>A</td>\n",
       "      <td>109 min</td>\n",
       "      <td>Horror, Mystery, Thriller</td>\n",
       "      <td>8.5</td>\n",
       "      <td>A Phoenix secretary embezzles $40,000 from her...</td>\n",
       "      <td>97.0</td>\n",
       "      <td>Alfred Hitchcock</td>\n",
       "      <td>Anthony Perkins</td>\n",
       "      <td>Janet Leigh</td>\n",
       "      <td>Vera Miles</td>\n",
       "      <td>John Gavin</td>\n",
       "      <td>604211</td>\n",
       "      <td>3.200000e+07</td>\n",
       "    </tr>\n",
       "    <tr>\n",
       "      <th>81</th>\n",
       "      <td>Rear Window</td>\n",
       "      <td>1954</td>\n",
       "      <td>U</td>\n",
       "      <td>112 min</td>\n",
       "      <td>Mystery, Thriller</td>\n",
       "      <td>8.4</td>\n",
       "      <td>A wheelchair-bound photographer spies on his n...</td>\n",
       "      <td>100.0</td>\n",
       "      <td>Alfred Hitchcock</td>\n",
       "      <td>James Stewart</td>\n",
       "      <td>Grace Kelly</td>\n",
       "      <td>Wendell Corey</td>\n",
       "      <td>Thelma Ritter</td>\n",
       "      <td>444074</td>\n",
       "      <td>3.676431e+07</td>\n",
       "    </tr>\n",
       "    <tr>\n",
       "      <th>118</th>\n",
       "      <td>North by Northwest</td>\n",
       "      <td>1959</td>\n",
       "      <td>U</td>\n",
       "      <td>136 min</td>\n",
       "      <td>Adventure, Mystery, Thriller</td>\n",
       "      <td>8.3</td>\n",
       "      <td>A New York City advertising executive goes on ...</td>\n",
       "      <td>98.0</td>\n",
       "      <td>Alfred Hitchcock</td>\n",
       "      <td>Cary Grant</td>\n",
       "      <td>Eva Marie Saint</td>\n",
       "      <td>James Mason</td>\n",
       "      <td>Jessie Royce Landis</td>\n",
       "      <td>299198</td>\n",
       "      <td>1.327500e+07</td>\n",
       "    </tr>\n",
       "    <tr>\n",
       "      <th>119</th>\n",
       "      <td>Vertigo</td>\n",
       "      <td>1958</td>\n",
       "      <td>A</td>\n",
       "      <td>128 min</td>\n",
       "      <td>Mystery, Romance, Thriller</td>\n",
       "      <td>8.3</td>\n",
       "      <td>A former police detective juggles wrestling wi...</td>\n",
       "      <td>100.0</td>\n",
       "      <td>Alfred Hitchcock</td>\n",
       "      <td>James Stewart</td>\n",
       "      <td>Kim Novak</td>\n",
       "      <td>Barbara Bel Geddes</td>\n",
       "      <td>Tom Helmore</td>\n",
       "      <td>364368</td>\n",
       "      <td>3.200000e+06</td>\n",
       "    </tr>\n",
       "    <tr>\n",
       "      <th>187</th>\n",
       "      <td>Dial M for Murder</td>\n",
       "      <td>1954</td>\n",
       "      <td>A</td>\n",
       "      <td>105 min</td>\n",
       "      <td>Crime, Thriller</td>\n",
       "      <td>8.2</td>\n",
       "      <td>A former tennis player tries to arrange his wi...</td>\n",
       "      <td>75.0</td>\n",
       "      <td>Alfred Hitchcock</td>\n",
       "      <td>Ray Milland</td>\n",
       "      <td>Grace Kelly</td>\n",
       "      <td>Robert Cummings</td>\n",
       "      <td>John Williams</td>\n",
       "      <td>158335</td>\n",
       "      <td>1.256200e+04</td>\n",
       "    </tr>\n",
       "    <tr>\n",
       "      <th>312</th>\n",
       "      <td>Rebecca</td>\n",
       "      <td>1940</td>\n",
       "      <td>Approved</td>\n",
       "      <td>130 min</td>\n",
       "      <td>Drama, Mystery, Romance</td>\n",
       "      <td>8.1</td>\n",
       "      <td>A self-conscious woman juggles adjusting to he...</td>\n",
       "      <td>86.0</td>\n",
       "      <td>Alfred Hitchcock</td>\n",
       "      <td>Laurence Olivier</td>\n",
       "      <td>Joan Fontaine</td>\n",
       "      <td>George Sanders</td>\n",
       "      <td>Judith Anderson</td>\n",
       "      <td>123942</td>\n",
       "      <td>4.360000e+06</td>\n",
       "    </tr>\n",
       "    <tr>\n",
       "      <th>450</th>\n",
       "      <td>Rope</td>\n",
       "      <td>1948</td>\n",
       "      <td>A</td>\n",
       "      <td>80 min</td>\n",
       "      <td>Crime, Drama, Mystery</td>\n",
       "      <td>8.0</td>\n",
       "      <td>Two men attempt to prove they committed the pe...</td>\n",
       "      <td>73.0</td>\n",
       "      <td>Alfred Hitchcock</td>\n",
       "      <td>James Stewart</td>\n",
       "      <td>John Dall</td>\n",
       "      <td>Farley Granger</td>\n",
       "      <td>Dick Hogan</td>\n",
       "      <td>129783</td>\n",
       "      <td>6.803475e+07</td>\n",
       "    </tr>\n",
       "    <tr>\n",
       "      <th>556</th>\n",
       "      <td>Strangers on a Train</td>\n",
       "      <td>1951</td>\n",
       "      <td>A</td>\n",
       "      <td>101 min</td>\n",
       "      <td>Crime, Film-Noir, Thriller</td>\n",
       "      <td>7.9</td>\n",
       "      <td>A psychopath forces a tennis star to comply wi...</td>\n",
       "      <td>88.0</td>\n",
       "      <td>Alfred Hitchcock</td>\n",
       "      <td>Farley Granger</td>\n",
       "      <td>Robert Walker</td>\n",
       "      <td>Ruth Roman</td>\n",
       "      <td>Leo G. Carroll</td>\n",
       "      <td>123341</td>\n",
       "      <td>7.630000e+06</td>\n",
       "    </tr>\n",
       "    <tr>\n",
       "      <th>559</th>\n",
       "      <td>Notorious</td>\n",
       "      <td>1946</td>\n",
       "      <td>U</td>\n",
       "      <td>102 min</td>\n",
       "      <td>Drama, Film-Noir, Romance</td>\n",
       "      <td>7.9</td>\n",
       "      <td>A woman is asked to spy on a group of Nazi fri...</td>\n",
       "      <td>100.0</td>\n",
       "      <td>Alfred Hitchcock</td>\n",
       "      <td>Cary Grant</td>\n",
       "      <td>Ingrid Bergman</td>\n",
       "      <td>Claude Rains</td>\n",
       "      <td>Louis Calhern</td>\n",
       "      <td>92306</td>\n",
       "      <td>1.046400e+07</td>\n",
       "    </tr>\n",
       "    <tr>\n",
       "      <th>712</th>\n",
       "      <td>Shadow of a Doubt</td>\n",
       "      <td>1943</td>\n",
       "      <td>PG</td>\n",
       "      <td>108 min</td>\n",
       "      <td>Film-Noir, Thriller</td>\n",
       "      <td>7.8</td>\n",
       "      <td>A young girl, overjoyed when her favorite uncl...</td>\n",
       "      <td>94.0</td>\n",
       "      <td>Alfred Hitchcock</td>\n",
       "      <td>Teresa Wright</td>\n",
       "      <td>Joseph Cotten</td>\n",
       "      <td>Macdonald Carey</td>\n",
       "      <td>Henry Travers</td>\n",
       "      <td>59556</td>\n",
       "      <td>6.803475e+07</td>\n",
       "    </tr>\n",
       "    <tr>\n",
       "      <th>714</th>\n",
       "      <td>The Lady Vanishes</td>\n",
       "      <td>1938</td>\n",
       "      <td>U</td>\n",
       "      <td>96 min</td>\n",
       "      <td>Mystery, Thriller</td>\n",
       "      <td>7.8</td>\n",
       "      <td>While travelling in continental Europe, a rich...</td>\n",
       "      <td>98.0</td>\n",
       "      <td>Alfred Hitchcock</td>\n",
       "      <td>Margaret Lockwood</td>\n",
       "      <td>Michael Redgrave</td>\n",
       "      <td>Paul Lukas</td>\n",
       "      <td>May Whitty</td>\n",
       "      <td>47400</td>\n",
       "      <td>6.803475e+07</td>\n",
       "    </tr>\n",
       "    <tr>\n",
       "      <th>862</th>\n",
       "      <td>The Birds</td>\n",
       "      <td>1963</td>\n",
       "      <td>A</td>\n",
       "      <td>119 min</td>\n",
       "      <td>Drama, Horror, Mystery</td>\n",
       "      <td>7.7</td>\n",
       "      <td>A wealthy San Francisco socialite pursues a po...</td>\n",
       "      <td>90.0</td>\n",
       "      <td>Alfred Hitchcock</td>\n",
       "      <td>Rod Taylor</td>\n",
       "      <td>Tippi Hedren</td>\n",
       "      <td>Jessica Tandy</td>\n",
       "      <td>Suzanne Pleshette</td>\n",
       "      <td>171739</td>\n",
       "      <td>1.140353e+07</td>\n",
       "    </tr>\n",
       "    <tr>\n",
       "      <th>998</th>\n",
       "      <td>Lifeboat</td>\n",
       "      <td>1944</td>\n",
       "      <td>U</td>\n",
       "      <td>97 min</td>\n",
       "      <td>Drama, War</td>\n",
       "      <td>7.6</td>\n",
       "      <td>Several survivors of a torpedoed merchant ship...</td>\n",
       "      <td>78.0</td>\n",
       "      <td>Alfred Hitchcock</td>\n",
       "      <td>Tallulah Bankhead</td>\n",
       "      <td>John Hodiak</td>\n",
       "      <td>Walter Slezak</td>\n",
       "      <td>William Bendix</td>\n",
       "      <td>26471</td>\n",
       "      <td>6.803475e+07</td>\n",
       "    </tr>\n",
       "    <tr>\n",
       "      <th>999</th>\n",
       "      <td>The 39 Steps</td>\n",
       "      <td>1935</td>\n",
       "      <td>U</td>\n",
       "      <td>86 min</td>\n",
       "      <td>Crime, Mystery, Thriller</td>\n",
       "      <td>7.6</td>\n",
       "      <td>A man in London tries to help a counter-espion...</td>\n",
       "      <td>93.0</td>\n",
       "      <td>Alfred Hitchcock</td>\n",
       "      <td>Robert Donat</td>\n",
       "      <td>Madeleine Carroll</td>\n",
       "      <td>Lucie Mannheim</td>\n",
       "      <td>Godfrey Tearle</td>\n",
       "      <td>51853</td>\n",
       "      <td>6.803475e+07</td>\n",
       "    </tr>\n",
       "  </tbody>\n",
       "</table>\n",
       "</div>"
      ],
      "text/plain": [
       "             Series_Title Released_Year Certificate  Runtime  \\\n",
       "49                 Psycho          1960           A  109 min   \n",
       "81            Rear Window          1954           U  112 min   \n",
       "118    North by Northwest          1959           U  136 min   \n",
       "119               Vertigo          1958           A  128 min   \n",
       "187     Dial M for Murder          1954           A  105 min   \n",
       "312               Rebecca          1940    Approved  130 min   \n",
       "450                  Rope          1948           A   80 min   \n",
       "556  Strangers on a Train          1951           A  101 min   \n",
       "559             Notorious          1946           U  102 min   \n",
       "712     Shadow of a Doubt          1943          PG  108 min   \n",
       "714     The Lady Vanishes          1938           U   96 min   \n",
       "862             The Birds          1963           A  119 min   \n",
       "998              Lifeboat          1944           U   97 min   \n",
       "999          The 39 Steps          1935           U   86 min   \n",
       "\n",
       "                            Genre  IMDB_Rating  \\\n",
       "49      Horror, Mystery, Thriller          8.5   \n",
       "81              Mystery, Thriller          8.4   \n",
       "118  Adventure, Mystery, Thriller          8.3   \n",
       "119    Mystery, Romance, Thriller          8.3   \n",
       "187               Crime, Thriller          8.2   \n",
       "312       Drama, Mystery, Romance          8.1   \n",
       "450         Crime, Drama, Mystery          8.0   \n",
       "556    Crime, Film-Noir, Thriller          7.9   \n",
       "559     Drama, Film-Noir, Romance          7.9   \n",
       "712           Film-Noir, Thriller          7.8   \n",
       "714             Mystery, Thriller          7.8   \n",
       "862        Drama, Horror, Mystery          7.7   \n",
       "998                    Drama, War          7.6   \n",
       "999      Crime, Mystery, Thriller          7.6   \n",
       "\n",
       "                                              Overview  Meta_score  \\\n",
       "49   A Phoenix secretary embezzles $40,000 from her...        97.0   \n",
       "81   A wheelchair-bound photographer spies on his n...       100.0   \n",
       "118  A New York City advertising executive goes on ...        98.0   \n",
       "119  A former police detective juggles wrestling wi...       100.0   \n",
       "187  A former tennis player tries to arrange his wi...        75.0   \n",
       "312  A self-conscious woman juggles adjusting to he...        86.0   \n",
       "450  Two men attempt to prove they committed the pe...        73.0   \n",
       "556  A psychopath forces a tennis star to comply wi...        88.0   \n",
       "559  A woman is asked to spy on a group of Nazi fri...       100.0   \n",
       "712  A young girl, overjoyed when her favorite uncl...        94.0   \n",
       "714  While travelling in continental Europe, a rich...        98.0   \n",
       "862  A wealthy San Francisco socialite pursues a po...        90.0   \n",
       "998  Several survivors of a torpedoed merchant ship...        78.0   \n",
       "999  A man in London tries to help a counter-espion...        93.0   \n",
       "\n",
       "             Director              Star1              Star2  \\\n",
       "49   Alfred Hitchcock    Anthony Perkins        Janet Leigh   \n",
       "81   Alfred Hitchcock      James Stewart        Grace Kelly   \n",
       "118  Alfred Hitchcock         Cary Grant    Eva Marie Saint   \n",
       "119  Alfred Hitchcock      James Stewart          Kim Novak   \n",
       "187  Alfred Hitchcock        Ray Milland        Grace Kelly   \n",
       "312  Alfred Hitchcock   Laurence Olivier      Joan Fontaine   \n",
       "450  Alfred Hitchcock      James Stewart          John Dall   \n",
       "556  Alfred Hitchcock     Farley Granger      Robert Walker   \n",
       "559  Alfred Hitchcock         Cary Grant     Ingrid Bergman   \n",
       "712  Alfred Hitchcock      Teresa Wright      Joseph Cotten   \n",
       "714  Alfred Hitchcock  Margaret Lockwood   Michael Redgrave   \n",
       "862  Alfred Hitchcock         Rod Taylor       Tippi Hedren   \n",
       "998  Alfred Hitchcock  Tallulah Bankhead        John Hodiak   \n",
       "999  Alfred Hitchcock       Robert Donat  Madeleine Carroll   \n",
       "\n",
       "                  Star3                Star4  No_of_Votes         Gross  \n",
       "49           Vera Miles           John Gavin       604211  3.200000e+07  \n",
       "81        Wendell Corey        Thelma Ritter       444074  3.676431e+07  \n",
       "118         James Mason  Jessie Royce Landis       299198  1.327500e+07  \n",
       "119  Barbara Bel Geddes          Tom Helmore       364368  3.200000e+06  \n",
       "187     Robert Cummings        John Williams       158335  1.256200e+04  \n",
       "312      George Sanders      Judith Anderson       123942  4.360000e+06  \n",
       "450      Farley Granger           Dick Hogan       129783  6.803475e+07  \n",
       "556          Ruth Roman       Leo G. Carroll       123341  7.630000e+06  \n",
       "559        Claude Rains        Louis Calhern        92306  1.046400e+07  \n",
       "712     Macdonald Carey        Henry Travers        59556  6.803475e+07  \n",
       "714          Paul Lukas           May Whitty        47400  6.803475e+07  \n",
       "862       Jessica Tandy    Suzanne Pleshette       171739  1.140353e+07  \n",
       "998       Walter Slezak       William Bendix        26471  6.803475e+07  \n",
       "999      Lucie Mannheim       Godfrey Tearle        51853  6.803475e+07  "
      ]
     },
     "execution_count": 20,
     "metadata": {},
     "output_type": "execute_result"
    }
   ],
   "source": [
    "top_director_df = df[df.Director == top_director_name]\n",
    "top_director_df"
   ]
  },
  {
   "cell_type": "code",
   "execution_count": 21,
   "id": "3c448013",
   "metadata": {},
   "outputs": [
    {
     "data": {
      "text/plain": [
       "Text(0.5, 1.0, 'Top Movies Directed by Alfred Hitchcock')"
      ]
     },
     "execution_count": 21,
     "metadata": {},
     "output_type": "execute_result"
    },
    {
     "data": {
      "image/png": "[encoded data removed]",
      "text/plain": [
       "<Figure size 640x480 with 1 Axes>"
      ]
     },
     "metadata": {},
     "output_type": "display_data"
    }
   ],
   "source": [
    "titles = top_director_df.Series_Title\n",
    "y_pos = np.arange(len(titles))\n",
    "rating = top_director_df.IMDB_Rating\n",
    "\n",
    "plt.barh(y_pos, rating, align='center', alpha=0.5)\n",
    "plt.yticks(y_pos, titles)\n",
    "plt.xlabel('Rating / 10')\n",
    "plt.ylabel('Series Title')\n",
    "plt.title('Top Movies Directed by ' + top_director_name)"
   ]
  },
  {
   "cell_type": "markdown",
   "id": "688b26bf",
   "metadata": {},
   "source": [
    "# Requirement #8"
   ]
  },
  {
   "cell_type": "markdown",
   "id": "a5b6e641",
   "metadata": {},
   "source": [
    "## Key findings:\n",
    "1. `Drama` Genre is the most popular genre and watched by viewers\n",
    "2. `Alfred Hitchcock` is considered the most popular director with top movies"
   ]
  },
  {
   "cell_type": "code",
   "execution_count": 22,
   "id": "733c295d",
   "metadata": {},
   "outputs": [],
   "source": [
    "import seaborn as sns"
   ]
  },
  {
   "cell_type": "code",
   "execution_count": 23,
   "id": "796a0e35",
   "metadata": {},
   "outputs": [
    {
     "name": "stderr",
     "output_type": "stream",
     "text": [
      "C:\\Users\\maysa\\AppData\\Local\\Temp\\ipykernel_13936\\2162442851.py:2: SettingWithCopyWarning: \n",
      "A value is trying to be set on a copy of a slice from a DataFrame\n",
      "\n",
      "See the caveats in the documentation: https://pandas.pydata.org/pandas-docs/stable/user_guide/indexing.html#returning-a-view-versus-a-copy\n",
      "  df.Released_Year[df.Released_Year == 'PG'] = 1995\n"
     ]
    }
   ],
   "source": [
    "# replacing this value with the year Apollo 13 was released which is 1995\n",
    "df.Released_Year[df.Released_Year == 'PG'] = 1995\n",
    "df.Released_Year = df.Released_Year.astype('int64')\n",
    "\n",
    "df.Runtime = df.Runtime.apply(lambda x : x.split(' ')[0]).astype('int64')"
   ]
  },
  {
   "cell_type": "code",
   "execution_count": 24,
   "id": "d3956e8a",
   "metadata": {},
   "outputs": [
    {
     "data": {
      "text/plain": [
       "<seaborn.axisgrid.FacetGrid at 0x208ffd806a0>"
      ]
     },
     "execution_count": 24,
     "metadata": {},
     "output_type": "execute_result"
    },
    {
     "data": {
      "image/png": "[encoded data removed]",
      "text/plain": [
       "<Figure size 500x500 with 1 Axes>"
      ]
     },
     "metadata": {},
     "output_type": "display_data"
    }
   ],
   "source": [
    "sns.displot(df, x=df.Released_Year)"
   ]
  },
  {
   "cell_type": "markdown",
   "id": "ebaf3bdd",
   "metadata": {},
   "source": [
    "3. It seems that movies released in the past 20 are more popular than movies released any period before this one"
   ]
  },
  {
   "cell_type": "code",
   "execution_count": 25,
   "id": "ecdd84dc",
   "metadata": {},
   "outputs": [
    {
     "data": {
      "text/plain": [
       "<seaborn.axisgrid.FacetGrid at 0x208ffdf3b50>"
      ]
     },
     "execution_count": 25,
     "metadata": {},
     "output_type": "execute_result"
    },
    {
     "data": {
      "image/png": "[encoded data removed]",
      "text/plain": [
       "<Figure size 500x500 with 1 Axes>"
      ]
     },
     "metadata": {},
     "output_type": "display_data"
    }
   ],
   "source": [
    "sns.displot(df, x=df.Gross)"
   ]
  },
  {
   "cell_type": "code",
   "execution_count": 26,
   "id": "fca00e3b",
   "metadata": {},
   "outputs": [
    {
     "data": {
      "text/html": [
       "<div>\n",
       "<style scoped>\n",
       "    .dataframe tbody tr th:only-of-type {\n",
       "        vertical-align: middle;\n",
       "    }\n",
       "\n",
       "    .dataframe tbody tr th {\n",
       "        vertical-align: top;\n",
       "    }\n",
       "\n",
       "    .dataframe thead th {\n",
       "        text-align: right;\n",
       "    }\n",
       "</style>\n",
       "<table border=\"1\" class=\"dataframe\">\n",
       "  <thead>\n",
       "    <tr style=\"text-align: right;\">\n",
       "      <th></th>\n",
       "      <th>Released_Year</th>\n",
       "      <th>Runtime</th>\n",
       "      <th>IMDB_Rating</th>\n",
       "      <th>Meta_score</th>\n",
       "      <th>No_of_Votes</th>\n",
       "      <th>Gross</th>\n",
       "    </tr>\n",
       "  </thead>\n",
       "  <tbody>\n",
       "    <tr>\n",
       "      <th>count</th>\n",
       "      <td>1000.000000</td>\n",
       "      <td>1000.000000</td>\n",
       "      <td>1000.000000</td>\n",
       "      <td>1000.000000</td>\n",
       "      <td>1.000000e+03</td>\n",
       "      <td>1.000000e+03</td>\n",
       "    </tr>\n",
       "    <tr>\n",
       "      <th>mean</th>\n",
       "      <td>1991.221000</td>\n",
       "      <td>122.891000</td>\n",
       "      <td>7.949300</td>\n",
       "      <td>77.662000</td>\n",
       "      <td>2.736929e+05</td>\n",
       "      <td>6.803475e+07</td>\n",
       "    </tr>\n",
       "    <tr>\n",
       "      <th>std</th>\n",
       "      <td>23.285669</td>\n",
       "      <td>28.093671</td>\n",
       "      <td>0.275491</td>\n",
       "      <td>11.384699</td>\n",
       "      <td>3.273727e+05</td>\n",
       "      <td>1.000371e+08</td>\n",
       "    </tr>\n",
       "    <tr>\n",
       "      <th>min</th>\n",
       "      <td>1920.000000</td>\n",
       "      <td>45.000000</td>\n",
       "      <td>7.600000</td>\n",
       "      <td>28.000000</td>\n",
       "      <td>2.508800e+04</td>\n",
       "      <td>1.305000e+03</td>\n",
       "    </tr>\n",
       "    <tr>\n",
       "      <th>25%</th>\n",
       "      <td>1976.000000</td>\n",
       "      <td>103.000000</td>\n",
       "      <td>7.700000</td>\n",
       "      <td>72.000000</td>\n",
       "      <td>5.552625e+04</td>\n",
       "      <td>5.012919e+06</td>\n",
       "    </tr>\n",
       "    <tr>\n",
       "      <th>50%</th>\n",
       "      <td>1999.000000</td>\n",
       "      <td>119.000000</td>\n",
       "      <td>7.900000</td>\n",
       "      <td>76.000000</td>\n",
       "      <td>1.385485e+05</td>\n",
       "      <td>4.238945e+07</td>\n",
       "    </tr>\n",
       "    <tr>\n",
       "      <th>75%</th>\n",
       "      <td>2009.000000</td>\n",
       "      <td>137.000000</td>\n",
       "      <td>8.100000</td>\n",
       "      <td>85.250000</td>\n",
       "      <td>3.741612e+05</td>\n",
       "      <td>6.803475e+07</td>\n",
       "    </tr>\n",
       "    <tr>\n",
       "      <th>max</th>\n",
       "      <td>2020.000000</td>\n",
       "      <td>321.000000</td>\n",
       "      <td>9.300000</td>\n",
       "      <td>100.000000</td>\n",
       "      <td>2.343110e+06</td>\n",
       "      <td>9.366622e+08</td>\n",
       "    </tr>\n",
       "  </tbody>\n",
       "</table>\n",
       "</div>"
      ],
      "text/plain": [
       "       Released_Year      Runtime  IMDB_Rating   Meta_score   No_of_Votes  \\\n",
       "count    1000.000000  1000.000000  1000.000000  1000.000000  1.000000e+03   \n",
       "mean     1991.221000   122.891000     7.949300    77.662000  2.736929e+05   \n",
       "std        23.285669    28.093671     0.275491    11.384699  3.273727e+05   \n",
       "min      1920.000000    45.000000     7.600000    28.000000  2.508800e+04   \n",
       "25%      1976.000000   103.000000     7.700000    72.000000  5.552625e+04   \n",
       "50%      1999.000000   119.000000     7.900000    76.000000  1.385485e+05   \n",
       "75%      2009.000000   137.000000     8.100000    85.250000  3.741612e+05   \n",
       "max      2020.000000   321.000000     9.300000   100.000000  2.343110e+06   \n",
       "\n",
       "              Gross  \n",
       "count  1.000000e+03  \n",
       "mean   6.803475e+07  \n",
       "std    1.000371e+08  \n",
       "min    1.305000e+03  \n",
       "25%    5.012919e+06  \n",
       "50%    4.238945e+07  \n",
       "75%    6.803475e+07  \n",
       "max    9.366622e+08  "
      ]
     },
     "execution_count": 26,
     "metadata": {},
     "output_type": "execute_result"
    }
   ],
   "source": [
    "df.describe()"
   ]
  },
  {
   "cell_type": "markdown",
   "id": "5e6f3e2a",
   "metadata": {},
   "source": [
    "4. It seems that 75% of the movies did not achieve a gross more than 68M.\n",
    "5. Most top rated movies (75%) do not exceed 137 min length"
   ]
  },
  {
   "cell_type": "code",
   "execution_count": 27,
   "id": "c853698e",
   "metadata": {},
   "outputs": [
    {
     "name": "stderr",
     "output_type": "stream",
     "text": [
      "C:\\Users\\maysa\\AppData\\Local\\Temp\\ipykernel_13936\\1134722465.py:1: FutureWarning: The default value of numeric_only in DataFrame.corr is deprecated. In a future version, it will default to False. Select only valid columns or specify the value of numeric_only to silence this warning.\n",
      "  df.corr()\n"
     ]
    },
    {
     "data": {
      "text/html": [
       "<div>\n",
       "<style scoped>\n",
       "    .dataframe tbody tr th:only-of-type {\n",
       "        vertical-align: middle;\n",
       "    }\n",
       "\n",
       "    .dataframe tbody tr th {\n",
       "        vertical-align: top;\n",
       "    }\n",
       "\n",
       "    .dataframe thead th {\n",
       "        text-align: right;\n",
       "    }\n",
       "</style>\n",
       "<table border=\"1\" class=\"dataframe\">\n",
       "  <thead>\n",
       "    <tr style=\"text-align: right;\">\n",
       "      <th></th>\n",
       "      <th>Released_Year</th>\n",
       "      <th>Runtime</th>\n",
       "      <th>IMDB_Rating</th>\n",
       "      <th>Meta_score</th>\n",
       "      <th>No_of_Votes</th>\n",
       "      <th>Gross</th>\n",
       "    </tr>\n",
       "  </thead>\n",
       "  <tbody>\n",
       "    <tr>\n",
       "      <th>Released_Year</th>\n",
       "      <td>1.000000</td>\n",
       "      <td>0.165873</td>\n",
       "      <td>-0.131152</td>\n",
       "      <td>-0.279609</td>\n",
       "      <td>0.241779</td>\n",
       "      <td>0.192912</td>\n",
       "    </tr>\n",
       "    <tr>\n",
       "      <th>Runtime</th>\n",
       "      <td>0.165873</td>\n",
       "      <td>1.000000</td>\n",
       "      <td>0.243096</td>\n",
       "      <td>-0.030455</td>\n",
       "      <td>0.173264</td>\n",
       "      <td>0.124626</td>\n",
       "    </tr>\n",
       "    <tr>\n",
       "      <th>IMDB_Rating</th>\n",
       "      <td>-0.131152</td>\n",
       "      <td>0.243096</td>\n",
       "      <td>1.000000</td>\n",
       "      <td>0.244048</td>\n",
       "      <td>0.494979</td>\n",
       "      <td>0.089881</td>\n",
       "    </tr>\n",
       "    <tr>\n",
       "      <th>Meta_score</th>\n",
       "      <td>-0.279609</td>\n",
       "      <td>-0.030455</td>\n",
       "      <td>0.244048</td>\n",
       "      <td>1.000000</td>\n",
       "      <td>-0.000075</td>\n",
       "      <td>-0.021853</td>\n",
       "    </tr>\n",
       "    <tr>\n",
       "      <th>No_of_Votes</th>\n",
       "      <td>0.241779</td>\n",
       "      <td>0.173264</td>\n",
       "      <td>0.494979</td>\n",
       "      <td>-0.000075</td>\n",
       "      <td>1.000000</td>\n",
       "      <td>0.549582</td>\n",
       "    </tr>\n",
       "    <tr>\n",
       "      <th>Gross</th>\n",
       "      <td>0.192912</td>\n",
       "      <td>0.124626</td>\n",
       "      <td>0.089881</td>\n",
       "      <td>-0.021853</td>\n",
       "      <td>0.549582</td>\n",
       "      <td>1.000000</td>\n",
       "    </tr>\n",
       "  </tbody>\n",
       "</table>\n",
       "</div>"
      ],
      "text/plain": [
       "               Released_Year   Runtime  IMDB_Rating  Meta_score  No_of_Votes  \\\n",
       "Released_Year       1.000000  0.165873    -0.131152   -0.279609     0.241779   \n",
       "Runtime             0.165873  1.000000     0.243096   -0.030455     0.173264   \n",
       "IMDB_Rating        -0.131152  0.243096     1.000000    0.244048     0.494979   \n",
       "Meta_score         -0.279609 -0.030455     0.244048    1.000000    -0.000075   \n",
       "No_of_Votes         0.241779  0.173264     0.494979   -0.000075     1.000000   \n",
       "Gross               0.192912  0.124626     0.089881   -0.021853     0.549582   \n",
       "\n",
       "                  Gross  \n",
       "Released_Year  0.192912  \n",
       "Runtime        0.124626  \n",
       "IMDB_Rating    0.089881  \n",
       "Meta_score    -0.021853  \n",
       "No_of_Votes    0.549582  \n",
       "Gross          1.000000  "
      ]
     },
     "execution_count": 27,
     "metadata": {},
     "output_type": "execute_result"
    }
   ],
   "source": [
    "df.corr()"
   ]
  },
  {
   "cell_type": "markdown",
   "id": "97dce7e4",
   "metadata": {},
   "source": [
    "6. There is a positve relationship between `No_of_Votes` and `Gross`, the more the gross the more the people are rating\n",
    "7. Also, another positve relatiohsip between `No_of_Votes` and `IMDB_Rating`, it seems that the more people vote for a movie the more the voting out of 10 is higher"
   ]
  },
  {
   "cell_type": "code",
   "execution_count": 28,
   "id": "d0cfb3fc",
   "metadata": {},
   "outputs": [
    {
     "data": {
      "text/plain": [
       "<AxesSubplot: xlabel='count', ylabel='Certificate'>"
      ]
     },
     "execution_count": 28,
     "metadata": {},
     "output_type": "execute_result"
    },
    {
     "data": {
      "image/png": "[encoded data removed]",
      "text/plain": [
       "<Figure size 640x480 with 1 Axes>"
      ]
     },
     "metadata": {},
     "output_type": "display_data"
    }
   ],
   "source": [
    "sns.countplot(df, y=df.Certificate)"
   ]
  },
  {
   "cell_type": "markdown",
   "id": "fc2b9789",
   "metadata": {},
   "source": [
    "8. As observed, `Unrestricted` - U certificate - movies are the dominant in the top movies rated on IMDB "
   ]
  },
  {
   "cell_type": "code",
   "execution_count": 29,
   "id": "dc973d81",
   "metadata": {},
   "outputs": [
    {
     "data": {
      "text/html": [
       "<div>\n",
       "<style scoped>\n",
       "    .dataframe tbody tr th:only-of-type {\n",
       "        vertical-align: middle;\n",
       "    }\n",
       "\n",
       "    .dataframe tbody tr th {\n",
       "        vertical-align: top;\n",
       "    }\n",
       "\n",
       "    .dataframe thead th {\n",
       "        text-align: right;\n",
       "    }\n",
       "</style>\n",
       "<table border=\"1\" class=\"dataframe\">\n",
       "  <thead>\n",
       "    <tr style=\"text-align: right;\">\n",
       "      <th></th>\n",
       "      <th>Star</th>\n",
       "    </tr>\n",
       "  </thead>\n",
       "  <tbody>\n",
       "    <tr>\n",
       "      <th>0</th>\n",
       "      <td>Tim Robbins</td>\n",
       "    </tr>\n",
       "    <tr>\n",
       "      <th>1</th>\n",
       "      <td>Marlon Brando</td>\n",
       "    </tr>\n",
       "    <tr>\n",
       "      <th>2</th>\n",
       "      <td>Christian Bale</td>\n",
       "    </tr>\n",
       "    <tr>\n",
       "      <th>3</th>\n",
       "      <td>Al Pacino</td>\n",
       "    </tr>\n",
       "    <tr>\n",
       "      <th>4</th>\n",
       "      <td>Henry Fonda</td>\n",
       "    </tr>\n",
       "    <tr>\n",
       "      <th>...</th>\n",
       "      <td>...</td>\n",
       "    </tr>\n",
       "    <tr>\n",
       "      <th>995</th>\n",
       "      <td>Buddy Ebsen</td>\n",
       "    </tr>\n",
       "    <tr>\n",
       "      <th>996</th>\n",
       "      <td>Carroll Baker</td>\n",
       "    </tr>\n",
       "    <tr>\n",
       "      <th>997</th>\n",
       "      <td>Donna Reed</td>\n",
       "    </tr>\n",
       "    <tr>\n",
       "      <th>998</th>\n",
       "      <td>William Bendix</td>\n",
       "    </tr>\n",
       "    <tr>\n",
       "      <th>999</th>\n",
       "      <td>Godfrey Tearle</td>\n",
       "    </tr>\n",
       "  </tbody>\n",
       "</table>\n",
       "<p>4000 rows × 1 columns</p>\n",
       "</div>"
      ],
      "text/plain": [
       "               Star\n",
       "0       Tim Robbins\n",
       "1     Marlon Brando\n",
       "2    Christian Bale\n",
       "3         Al Pacino\n",
       "4       Henry Fonda\n",
       "..              ...\n",
       "995     Buddy Ebsen\n",
       "996   Carroll Baker\n",
       "997      Donna Reed\n",
       "998  William Bendix\n",
       "999  Godfrey Tearle\n",
       "\n",
       "[4000 rows x 1 columns]"
      ]
     },
     "execution_count": 29,
     "metadata": {},
     "output_type": "execute_result"
    }
   ],
   "source": [
    "stars = pd.concat([df.Star1, df.Star2, df.Star3, df.Star4])\n",
    "df_stars = pd.DataFrame(stars, columns=['Star'])\n",
    "df_stars"
   ]
  },
  {
   "cell_type": "code",
   "execution_count": 30,
   "id": "b3d35dc4",
   "metadata": {},
   "outputs": [
    {
     "data": {
      "text/html": [
       "<div>\n",
       "<style scoped>\n",
       "    .dataframe tbody tr th:only-of-type {\n",
       "        vertical-align: middle;\n",
       "    }\n",
       "\n",
       "    .dataframe tbody tr th {\n",
       "        vertical-align: top;\n",
       "    }\n",
       "\n",
       "    .dataframe thead th {\n",
       "        text-align: right;\n",
       "    }\n",
       "</style>\n",
       "<table border=\"1\" class=\"dataframe\">\n",
       "  <thead>\n",
       "    <tr style=\"text-align: right;\">\n",
       "      <th></th>\n",
       "      <th>Star</th>\n",
       "      <th>Occurances</th>\n",
       "    </tr>\n",
       "  </thead>\n",
       "  <tbody>\n",
       "    <tr>\n",
       "      <th>0</th>\n",
       "      <td>Robert De Niro</td>\n",
       "      <td>17</td>\n",
       "    </tr>\n",
       "    <tr>\n",
       "      <th>1</th>\n",
       "      <td>Tom Hanks</td>\n",
       "      <td>14</td>\n",
       "    </tr>\n",
       "    <tr>\n",
       "      <th>2</th>\n",
       "      <td>Al Pacino</td>\n",
       "      <td>13</td>\n",
       "    </tr>\n",
       "    <tr>\n",
       "      <th>3</th>\n",
       "      <td>Brad Pitt</td>\n",
       "      <td>12</td>\n",
       "    </tr>\n",
       "    <tr>\n",
       "      <th>4</th>\n",
       "      <td>Clint Eastwood</td>\n",
       "      <td>12</td>\n",
       "    </tr>\n",
       "    <tr>\n",
       "      <th>5</th>\n",
       "      <td>Matt Damon</td>\n",
       "      <td>11</td>\n",
       "    </tr>\n",
       "    <tr>\n",
       "      <th>6</th>\n",
       "      <td>Leonardo DiCaprio</td>\n",
       "      <td>11</td>\n",
       "    </tr>\n",
       "    <tr>\n",
       "      <th>7</th>\n",
       "      <td>Christian Bale</td>\n",
       "      <td>11</td>\n",
       "    </tr>\n",
       "    <tr>\n",
       "      <th>8</th>\n",
       "      <td>James Stewart</td>\n",
       "      <td>10</td>\n",
       "    </tr>\n",
       "    <tr>\n",
       "      <th>9</th>\n",
       "      <td>Humphrey Bogart</td>\n",
       "      <td>9</td>\n",
       "    </tr>\n",
       "  </tbody>\n",
       "</table>\n",
       "</div>"
      ],
      "text/plain": [
       "                Star  Occurances\n",
       "0     Robert De Niro          17\n",
       "1          Tom Hanks          14\n",
       "2          Al Pacino          13\n",
       "3          Brad Pitt          12\n",
       "4     Clint Eastwood          12\n",
       "5         Matt Damon          11\n",
       "6  Leonardo DiCaprio          11\n",
       "7     Christian Bale          11\n",
       "8      James Stewart          10\n",
       "9    Humphrey Bogart           9"
      ]
     },
     "execution_count": 30,
     "metadata": {},
     "output_type": "execute_result"
    }
   ],
   "source": [
    "df_stars_grouped = df_stars.groupby('Star').size().sort_values(ascending=False)[:10].reset_index()\n",
    "df_stars_grouped.columns=['Star', 'Occurances']\n",
    "df_stars_grouped"
   ]
  },
  {
   "cell_type": "code",
   "execution_count": 31,
   "id": "ef982268",
   "metadata": {},
   "outputs": [
    {
     "data": {
      "text/plain": [
       "<AxesSubplot: xlabel='Occurances', ylabel='Star'>"
      ]
     },
     "execution_count": 31,
     "metadata": {},
     "output_type": "execute_result"
    },
    {
     "data": {
      "image/png": "[encoded data removed]",
      "text/plain": [
       "<Figure size 640x480 with 1 Axes>"
      ]
     },
     "metadata": {},
     "output_type": "display_data"
    }
   ],
   "source": [
    "sns.barplot(data=df_stars_grouped, y='Star', x='Occurances')"
   ]
  },
  {
   "cell_type": "markdown",
   "id": "d451f005",
   "metadata": {},
   "source": [
    "10. The top 10 actors/actress showing in the top rated movies on IMDB are listed above, so If u are planning to creat a successful movie and takes place as one of the top rated movies on IMDB, consider picking up some names from the plot as main stars"
   ]
  },
  {
   "cell_type": "markdown",
   "id": "215caf42",
   "metadata": {},
   "source": [
    "[Maysam M. Mousa](https://github.com/MaysaM-M-Mousa)"
   ]
  }
 ],
 "metadata": {
  "kernelspec": {
   "display_name": "MLEnv",
   "language": "python",
   "name": "mlenv"
  },
  "language_info": {
   "codemirror_mode": {
    "name": "ipython",
    "version": 3
   },
   "file_extension": ".py",
   "mimetype": "text/x-python",
   "name": "python",
   "nbconvert_exporter": "python",
   "pygments_lexer": "ipython3",
   "version": "3.10.7"
  }
 },
 "nbformat": 4,
 "nbformat_minor": 5
}
